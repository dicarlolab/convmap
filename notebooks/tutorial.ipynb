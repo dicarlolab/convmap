{
 "cells": [
  {
   "cell_type": "code",
   "execution_count": 2,
   "metadata": {},
   "outputs": [
    {
     "name": "stdout",
     "output_type": "stream",
     "text": [
      "common attributes, forcing a renaming ...\n",
      "Using default renamer ...\n",
      "('Replacing columns', ['rxz', 'rxy', 'ryz'])\n"
     ]
    }
   ],
   "source": [
    "import os\n",
    "import numpy as np\n",
    "import h5py\n",
    "import dldata.metrics.utils as utils\n",
    "import dldata.stimulus_sets.hvm as hvm\n",
    "from sklearn.model_selection import KFold\n",
    "from sklearn.preprocessing import scale\n",
    "from scipy.stats import pearsonr\n",
    "from cubemap.mapper import Mapper\n",
    "import tensorflow as tf\n",
    "\n",
    "np.random.seed([0])\n",
    "os.environ['CUDA_VISIBLE_DEVICES'] = '4'\n",
    "gpu_options = tf.GPUOptions(per_process_gpu_memory_fraction=0.5)\n",
    "\n",
    "dataset_hvm = hvm.HvMWithDiscfade()\n",
    "meta_hvm = dataset_hvm.meta\n",
    "neurons = dataset_hvm.neuronal_features\n",
    "v4_data = neurons[:, dataset_hvm.V4_NEURONS]"
   ]
  },
  {
   "cell_type": "markdown",
   "metadata": {},
   "source": [
    "# Separable (Mask-Mix) Mapping"
   ]
  },
  {
   "cell_type": "code",
   "execution_count": 3,
   "metadata": {},
   "outputs": [
    {
     "name": "stderr",
     "output_type": "stream",
     "text": [
      "/braintree/home/bashivan/anaconda2/envs/dldata/lib/python2.7/site-packages/sklearn/preprocessing/data.py:164: UserWarning: Numerical issues were encountered when centering the data and might not be solved. Dataset may contain too large values. You may need to prescale your features.\n",
      "  warnings.warn(\"Numerical issues were encountered \"\n",
      "/braintree/home/bashivan/anaconda2/envs/dldata/lib/python2.7/site-packages/sklearn/preprocessing/data.py:181: UserWarning: Numerical issues were encountered when scaling the data and might not be solved. The standard deviation of the data is probably very close to 0. \n",
      "  warnings.warn(\"Numerical issues were encountered \"\n"
     ]
    },
    {
     "name": "stdout",
     "output_type": "stream",
     "text": [
      "Mapping with ls=0.1, ld=0.1\n",
      "Initializing...\n",
      "Epoch: 1, Err Loss: 7730.69, Reg Loss: 7331.64\n",
      "Epoch: 11, Err Loss: 110.75, Reg Loss: 308.84\n",
      "Epoch: 21, Err Loss: 45.45, Reg Loss: 27.77\n",
      "Epoch: 31, Err Loss: 44.32, Reg Loss: 12.13\n",
      "Epoch: 41, Err Loss: 41.48, Reg Loss: 10.24\n",
      "Epoch: 51, Err Loss: 43.03, Reg Loss: 8.33\n",
      "Epoch: 61, Err Loss: 39.60, Reg Loss: 8.11\n",
      "Epoch: 71, Err Loss: 43.45, Reg Loss: 7.86\n",
      "Initializing...\n",
      "Epoch: 1, Err Loss: 7673.11, Reg Loss: 7456.63\n",
      "Epoch: 11, Err Loss: 135.07, Reg Loss: 361.70\n",
      "Epoch: 21, Err Loss: 55.32, Reg Loss: 34.77\n",
      "Epoch: 31, Err Loss: 54.12, Reg Loss: 16.47\n",
      "Epoch: 41, Err Loss: 49.14, Reg Loss: 14.29\n",
      "Epoch: 51, Err Loss: 49.66, Reg Loss: 12.04\n",
      "Epoch: 61, Err Loss: 51.16, Reg Loss: 11.78\n",
      "Epoch: 71, Err Loss: 52.17, Reg Loss: 11.47\n",
      "('Scores: ', 0.5975703)\n"
     ]
    }
   ],
   "source": [
    "kf = KFold(n_splits=2)\n",
    "\n",
    "\n",
    "with h5py.File('/braintree/data2/active/users/bashivan/model_features/alexnet_retina299_alexpreprocess.h5') as features_h5_hvm:\n",
    "    X = np.array(features_h5_hvm['mdl_conv3'])\n",
    "\n",
    "Y = scale(v4_data)\n",
    "    \n",
    "num_images = X.shape[0]\n",
    "num_neurons = Y.shape[-1]\n",
    "\n",
    "# mapping accuracy is very sensitive to the choice of regularization parameters ls and ld\n",
    "ls = 0.1 # regularization parameter for the spatial mask weights\n",
    "ld = 0.1 # regularization parameter for the mixing weights\n",
    "\n",
    "print('Mapping with ls={}, ld={}'.format(ls, ld))\n",
    "\n",
    "preds = np.zeros_like(Y)\n",
    "for i, (train_ind, test_ind) in enumerate(kf.split(X)):\n",
    "    mapper = Mapper(graph=None, max_epochs=80, tol=0.1, gpu_options=gpu_options,\n",
    "                    init_lr=0.01, batch_size=50, ls=ls, ld=ld, num_neurons=num_neurons,\n",
    "                    map_type='separable', inits=None, decay_rate=25, log_rate=10)\n",
    "\n",
    "    mapper.fit(X[train_ind], Y[train_ind])\n",
    "    preds[test_ind] = mapper.predict(X[test_ind])\n",
    "scores = np.array([pearsonr(preds[:, i], Y[:, i])[0] for i in range(preds.shape[-1])])\n",
    "print('Scores: ', np.median(scores))\n"
   ]
  },
  {
   "cell_type": "code",
   "execution_count": 4,
   "metadata": {},
   "outputs": [
    {
     "name": "stdout",
     "output_type": "stream",
     "text": [
      "working on fold 1/2\n",
      "working on fold 2/2\n",
      "('Scores: ', 0.5128074)\n"
     ]
    }
   ],
   "source": [
    "# PCR Comparison\n",
    "from sklearn import linear_model\n",
    "from sklearn.decomposition import PCA\n",
    "\n",
    "Y = scale(v4_data)\n",
    "\n",
    "features = X.reshape(X.shape[0], -1)\n",
    "pca = PCA(n_components=1000, whiten=False)\n",
    "model_pcs = pca.fit_transform(features)\n",
    "\n",
    "preds = np.zeros_like(Y)\n",
    "for i, (train_ind, test_ind) in enumerate(kf.split(model_pcs)):\n",
    "    print('working on fold {0}/{1}'.format(i+1, 2))\n",
    "    clf = linear_model.Ridge(alpha=10)\n",
    "    clf.fit(model_pcs[train_ind], Y[train_ind])\n",
    "\n",
    "    # print the test performance \n",
    "    preds[test_ind] = clf.predict(model_pcs[test_ind])\n",
    "scores = np.array([pearsonr(preds[:, i], Y[:, i])[0] for i in range(preds.shape[-1])])\n",
    "print('Scores: ', np.median(scores))\n"
   ]
  },
  {
   "cell_type": "code",
   "execution_count": null,
   "metadata": {
    "collapsed": true
   },
   "outputs": [],
   "source": []
  }
 ],
 "metadata": {
  "kernelspec": {
   "display_name": "Python 2",
   "language": "python",
   "name": "python2"
  },
  "language_info": {
   "codemirror_mode": {
    "name": "ipython",
    "version": 2
   },
   "file_extension": ".py",
   "mimetype": "text/x-python",
   "name": "python",
   "nbconvert_exporter": "python",
   "pygments_lexer": "ipython2",
   "version": "2.7.14"
  },
  "toc": {
   "colors": {
    "hover_highlight": "#DAA520",
    "navigate_num": "#000000",
    "navigate_text": "#333333",
    "running_highlight": "#FF0000",
    "selected_highlight": "#FFD700",
    "sidebar_border": "#EEEEEE",
    "wrapper_background": "#FFFFFF"
   },
   "moveMenuLeft": true,
   "nav_menu": {
    "height": "48px",
    "width": "252px"
   },
   "navigate_menu": true,
   "number_sections": true,
   "sideBar": true,
   "threshold": 4,
   "toc_cell": false,
   "toc_section_display": "block",
   "toc_window_display": true,
   "widenNotebook": false
  }
 },
 "nbformat": 4,
 "nbformat_minor": 2
}
