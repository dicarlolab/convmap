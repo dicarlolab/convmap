{
  "cells": [
    {
      "cell_type": "code",
      "execution_count": 1,
      "metadata": {
        "pycharm": {
          "is_executing": false
        }
      },
      "outputs": [
        {
          "name": "stderr",
          "text": [
            "/braintree/home/bashivan/anaconda2/envs/dldata/lib/python2.7/site-packages/h5py/__init__.py:36: FutureWarning: Conversion of the second argument of issubdtype from `float` to `np.floating` is deprecated. In future, it will be treated as `np.float64 \u003d\u003d np.dtype(float).type`.\n  from ._conv import register_converters as _register_converters\n",
            "/braintree/home/bashivan/anaconda2/envs/dldata/lib/python2.7/site-packages/sklearn/cross_validation.py:41: DeprecationWarning: This module was deprecated in version 0.18 in favor of the model_selection module into which all the refactored classes and functions are moved. Also note that the interface of the new CV iterators are different from that of this module. This module will be removed in 0.20.\n  \"This module will be removed in 0.20.\", DeprecationWarning)\n/braintree/home/bashivan/anaconda2/envs/dldata/lib/python2.7/site-packages/sklearn/grid_search.py:42: DeprecationWarning: This module was deprecated in version 0.18 in favor of the model_selection module into which all the refactored classes and functions are moved. This module will be removed in 0.20.\n  DeprecationWarning)\n",
            "/braintree/home/bashivan/anaconda2/envs/dldata/lib/python2.7/site-packages/tabular/spreadsheet.py:1458: FutureWarning: elementwise !\u003d comparison failed and returning scalar instead; this will raise an error or perform elementwise comparison in the future.\n  for k in Names if deletecols(L[k][0:0], keycols) !\u003d None])\n",
            "/braintree/home/bashivan/anaconda2/envs/dldata/lib/python2.7/site-packages/tabular/spreadsheet.py:1484: FutureWarning: elementwise !\u003d comparison failed and returning scalar instead; this will raise an error or perform elementwise comparison in the future.\n  if deletecols(L[j][D[i]], keycols) !\u003d None])\n",
            "/braintree/home/bashivan/anaconda2/envs/dldata/lib/python2.7/site-packages/tables/leaf.py:414: PerformanceWarning: The Leaf ``/spk`` is exceeding the maximum recommended rowsize (104857600 bytes);\nbe ready to see PyTables asking for *lots* of memory and possibly slow\nI/O.  You may want to reduce the rowsize by trimming the value of\ndimensions that are orthogonal (and preferably close) to the *main*\ndimension of this leave.  Alternatively, in case you have specified a\nvery small/large chunksize, you may want to increase/decrease it.\n  PerformanceWarning)\n"
          ],
          "output_type": "stream"
        },
        {
          "name": "stdout",
          "text": [
            "Can\u0027t import separate mcc package\nCan\u0027t import asgd.\n",
            "Can\u0027t import scikits stuff\n",
            "common attributes, forcing a renaming ...\nUsing default renamer ...\n",
            "(\u0027Replacing columns\u0027, [\u0027rxz\u0027, \u0027rxy\u0027, \u0027ryz\u0027])\n"
          ],
          "output_type": "stream"
        }
      ],
      "source": [
        "import os\n",
        "import numpy as np\n",
        "import h5py\n",
        "import dldata.metrics.utils as utils\n",
        "import dldata.stimulus_sets.hvm as hvm\n",
        "from sklearn.model_selection import KFold\n",
        "from sklearn.preprocessing import scale\n",
        "from scipy.stats import pearsonr\n",
        "from cubemap.mapper import Mapper\n",
        "import tensorflow as tf\n",
        "\n",
        "np.random.seed([0])\n",
        "os.environ[\u0027CUDA_VISIBLE_DEVICES\u0027] \u003d \u00274\u0027\n",
        "gpu_options \u003d tf.GPUOptions(per_process_gpu_memory_fraction\u003d0.5)\n",
        "\n",
        "dataset_hvm \u003d hvm.HvMWithDiscfade()\n",
        "meta_hvm \u003d dataset_hvm.meta\n",
        "neurons \u003d dataset_hvm.neuronal_features\n",
        "v4_data \u003d neurons[:, dataset_hvm.V4_NEURONS]"
      ]
    },
    {
      "cell_type": "markdown",
      "metadata": {
        "pycharm": {}
      },
      "source": [
        "# Separable (Mask-Mix) Mapping"
      ]
    },
    {
      "cell_type": "code",
      "execution_count": 3,
      "metadata": {
        "pycharm": {}
      },
      "outputs": [
        {
          "name": "stderr",
          "output_type": "stream",
          "text": [
            "/braintree/home/bashivan/anaconda2/envs/dldata/lib/python2.7/site-packages/sklearn/preprocessing/data.py:164: UserWarning: Numerical issues were encountered when centering the data and might not be solved. Dataset may contain too large values. You may need to prescale your features.\n",
            "  warnings.warn(\"Numerical issues were encountered \"\n",
            "/braintree/home/bashivan/anaconda2/envs/dldata/lib/python2.7/site-packages/sklearn/preprocessing/data.py:181: UserWarning: Numerical issues were encountered when scaling the data and might not be solved. The standard deviation of the data is probably very close to 0. \n",
            "  warnings.warn(\"Numerical issues were encountered \"\n"
          ]
        },
        {
          "name": "stdout",
          "output_type": "stream",
          "text": [
            "Mapping with ls\u003d0.1, ld\u003d0.1\n",
            "Initializing...\n",
            "Epoch: 1, Err Loss: 7730.69, Reg Loss: 7331.64\n",
            "Epoch: 11, Err Loss: 110.75, Reg Loss: 308.84\n",
            "Epoch: 21, Err Loss: 45.45, Reg Loss: 27.77\n",
            "Epoch: 31, Err Loss: 44.32, Reg Loss: 12.13\n",
            "Epoch: 41, Err Loss: 41.48, Reg Loss: 10.24\n",
            "Epoch: 51, Err Loss: 43.03, Reg Loss: 8.33\n",
            "Epoch: 61, Err Loss: 39.60, Reg Loss: 8.11\n",
            "Epoch: 71, Err Loss: 43.45, Reg Loss: 7.86\n",
            "Initializing...\n",
            "Epoch: 1, Err Loss: 7673.11, Reg Loss: 7456.63\n",
            "Epoch: 11, Err Loss: 135.07, Reg Loss: 361.70\n",
            "Epoch: 21, Err Loss: 55.32, Reg Loss: 34.77\n",
            "Epoch: 31, Err Loss: 54.12, Reg Loss: 16.47\n",
            "Epoch: 41, Err Loss: 49.14, Reg Loss: 14.29\n",
            "Epoch: 51, Err Loss: 49.66, Reg Loss: 12.04\n",
            "Epoch: 61, Err Loss: 51.16, Reg Loss: 11.78\n",
            "Epoch: 71, Err Loss: 52.17, Reg Loss: 11.47\n",
            "(\u0027Scores: \u0027, 0.5975703)\n"
          ]
        }
      ],
      "source": "kf \u003d KFold(n_splits\u003d2)\n\n\nwith h5py.File(\u0027/braintree/data2/active/users/bashivan/model_features/alexnet_retina299_alexpreprocess.h5\u0027) as features_h5_hvm:\n    X \u003d np.array(features_h5_hvm[\u0027mdl_conv3\u0027])\n\nY \u003d scale(v4_data)\n    \nnum_images \u003d X.shape[0]\nnum_neurons \u003d Y.shape[-1]\n\n# mapping accuracy is very sensitive to the choice of regularization parameters ls and ld\nls \u003d 1.  # regularization parameter for the spatial mask weights\nld \u003d 0.1  # regularization parameter for the mixing weights\n \nprint(\u0027Mapping with ls\u003d{}, ld\u003d{}\u0027.format(ls, ld))\n\npreds \u003d np.zeros_like(Y)\nfor i, (train_ind, test_ind) in enumerate(kf.split(X)):\n    mapper \u003d Mapper(graph\u003dNone, max_epochs\u003d30, tol\u003d0.1, \n                    init_lr\u003d0.1, batch_size\u003d10, ls\u003dls, ld\u003dld, num_neurons\u003dnum_neurons,\n                    map_type\u003d\u0027separable\u0027, inits\u003dNone, decay_rate\u003d10, log_rate\u003d10)\n\n    mapper.fit(X[train_ind], Y[train_ind])\n    preds[test_ind] \u003d mapper.predict(X[test_ind])\nscores \u003d np.array([pearsonr(preds[:, i], Y[:, i])[0] for i in range(preds.shape[-1])])\nprint(\u0027Scores: \u0027, np.median(scores))\n"
    },
    {
      "cell_type": "code",
      "execution_count": 4,
      "metadata": {
        "pycharm": {}
      },
      "outputs": [
        {
          "name": "stdout",
          "output_type": "stream",
          "text": [
            "working on fold 1/2\n",
            "working on fold 2/2\n",
            "(\u0027Scores: \u0027, 0.5128074)\n"
          ]
        }
      ],
      "source": [
        "# PCR Comparison\n",
        "from sklearn import linear_model\n",
        "from sklearn.decomposition import PCA\n",
        "\n",
        "Y \u003d scale(v4_data)\n",
        "\n",
        "features \u003d X.reshape(X.shape[0], -1)\n",
        "pca \u003d PCA(n_components\u003d1000, whiten\u003dFalse)\n",
        "model_pcs \u003d pca.fit_transform(features)\n",
        "\n",
        "preds \u003d np.zeros_like(Y)\n",
        "for i, (train_ind, test_ind) in enumerate(kf.split(model_pcs)):\n",
        "    print(\u0027working on fold {0}/{1}\u0027.format(i+1, 2))\n",
        "    clf \u003d linear_model.Ridge(alpha\u003d10)\n",
        "    clf.fit(model_pcs[train_ind], Y[train_ind])\n",
        "\n",
        "    # print the test performance \n",
        "    preds[test_ind] \u003d clf.predict(model_pcs[test_ind])\n",
        "scores \u003d np.array([pearsonr(preds[:, i], Y[:, i])[0] for i in range(preds.shape[-1])])\n",
        "print(\u0027Scores: \u0027, np.median(scores))\n"
      ]
    },
    {
      "cell_type": "code",
      "execution_count": null,
      "metadata": {
        "collapsed": true,
        "pycharm": {}
      },
      "outputs": [],
      "source": []
    }
  ],
  "metadata": {
    "kernelspec": {
      "display_name": "Python 2",
      "language": "python",
      "name": "python2"
    },
    "language_info": {
      "codemirror_mode": {
        "name": "ipython",
        "version": 2
      },
      "file_extension": ".py",
      "mimetype": "text/x-python",
      "name": "python",
      "nbconvert_exporter": "python",
      "pygments_lexer": "ipython2",
      "version": "2.7.14"
    },
    "toc": {
      "colors": {
        "hover_highlight": "#DAA520",
        "navigate_num": "#000000",
        "navigate_text": "#333333",
        "running_highlight": "#FF0000",
        "selected_highlight": "#FFD700",
        "sidebar_border": "#EEEEEE",
        "wrapper_background": "#FFFFFF"
      },
      "moveMenuLeft": true,
      "nav_menu": {
        "height": "48px",
        "width": "252px"
      },
      "navigate_menu": true,
      "number_sections": true,
      "sideBar": true,
      "threshold": 4.0,
      "toc_cell": false,
      "toc_section_display": "block",
      "toc_window_display": true,
      "widenNotebook": false
    }
  },
  "nbformat": 4,
  "nbformat_minor": 2
}